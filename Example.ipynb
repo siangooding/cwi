{
 "cells": [
  {
   "cell_type": "markdown",
   "metadata": {},
   "source": [
    "## Using the complex word sequence labeller\n",
    "\n",
    "In order to use the complex word models you must download the sequence labeller files available [here](https://github.com/marekrei/sequence-labeler), please cite both the sequence labeller paper and CWI sequence labelling paper if using these models for research. \n",
    "\n",
    "Below is example code showing each function in the `Complexity_labeller class`"
   ]
  },
  {
   "cell_type": "code",
   "execution_count": null,
   "metadata": {},
   "outputs": [],
   "source": [
    "from complex_word_ import Complexity_labeller\n",
    "model_path = './gpu_attention.model'\n",
    "temp_path = './temp_file.txt'"
   ]
  },
  {
   "cell_type": "code",
   "execution_count": null,
   "metadata": {},
   "outputs": [],
   "source": [
    "model = Complexity_labeller(model_path, temp_path)"
   ]
  },
  {
   "cell_type": "markdown",
   "metadata": {},
   "source": [
    "There are two options when converting text to CoNLL-type tab-separated format:\n",
    "\n",
    "- `convert_format_string`\n",
    "- `convert_format_token`"
   ]
  },
  {
   "cell_type": "code",
   "execution_count": 3,
   "metadata": {},
   "outputs": [],
   "source": [
    "Complexity_labeller.convert_format_string(model, 'You can convert a string like this')"
   ]
  },
  {
   "cell_type": "code",
   "execution_count": 4,
   "metadata": {},
   "outputs": [],
   "source": [
    "Complexity_labeller.convert_format_token(model, ['You','can','convert','tokens','like','this'])"
   ]
  },
  {
   "cell_type": "markdown",
   "metadata": {},
   "source": [
    "Once the text has been converted there are four methods to access complexity information:\n",
    "\n",
    "- `get_dataframe`\n",
    "- `get_bin_labels`\n",
    "- `get_prob_labels`"
   ]
  },
  {
   "cell_type": "code",
   "execution_count": 5,
   "metadata": {},
   "outputs": [],
   "source": [
    "#Converting example sentence:'Based in an armoured train parked in its sidings, he met with numerous ministers'\n",
    "\n",
    "Complexity_labeller.convert_format_string(model,'Based in an armoured train parked in its sidings, he met with numerous ministers')"
   ]
  },
  {
   "cell_type": "markdown",
   "metadata": {},
   "source": [
    "`get_dataframe` returns a dataframe containing the original tokenised sentence, binary complexity labels and complex class probabilities\n",
    "\n",
    "If a word recieves a binary label = 1, it has been classified as a complex word"
   ]
  },
  {
   "cell_type": "code",
   "execution_count": 6,
   "metadata": {},
   "outputs": [
    {
     "data": {
      "text/html": [
       "<div>\n",
       "<style scoped>\n",
       "    .dataframe tbody tr th:only-of-type {\n",
       "        vertical-align: middle;\n",
       "    }\n",
       "\n",
       "    .dataframe tbody tr th {\n",
       "        vertical-align: top;\n",
       "    }\n",
       "\n",
       "    .dataframe thead th {\n",
       "        text-align: right;\n",
       "    }\n",
       "</style>\n",
       "<table border=\"1\" class=\"dataframe\">\n",
       "  <thead>\n",
       "    <tr style=\"text-align: right;\">\n",
       "      <th></th>\n",
       "      <th>index</th>\n",
       "      <th>sentences</th>\n",
       "      <th>labels</th>\n",
       "      <th>probs</th>\n",
       "    </tr>\n",
       "  </thead>\n",
       "  <tbody>\n",
       "    <tr>\n",
       "      <th>0</th>\n",
       "      <td>0</td>\n",
       "      <td>[Based, in, an, armoured, train, parked, in, i...</td>\n",
       "      <td>[0, 0, 0, 1, 0, 0, 0, 0, 1, 0, 0, 0, 0, 1, 0]</td>\n",
       "      <td>[[0.96680665, 0.033193372], [0.99995637, 4.359...</td>\n",
       "    </tr>\n",
       "  </tbody>\n",
       "</table>\n",
       "</div>"
      ],
      "text/plain": [
       "   index                                          sentences  \\\n",
       "0      0  [Based, in, an, armoured, train, parked, in, i...   \n",
       "\n",
       "                                          labels  \\\n",
       "0  [0, 0, 0, 1, 0, 0, 0, 0, 1, 0, 0, 0, 0, 1, 0]   \n",
       "\n",
       "                                               probs  \n",
       "0  [[0.96680665, 0.033193372], [0.99995637, 4.359...  "
      ]
     },
     "execution_count": 6,
     "metadata": {},
     "output_type": "execute_result"
    }
   ],
   "source": [
    "Complexity_labeller.get_dataframe(model)"
   ]
  },
  {
   "cell_type": "markdown",
   "metadata": {},
   "source": [
    "`get_bin_labels` returns the binary complexity labels for the input"
   ]
  },
  {
   "cell_type": "code",
   "execution_count": 7,
   "metadata": {},
   "outputs": [
    {
     "data": {
      "text/plain": [
       "[array([0, 0, 0, 1, 0, 0, 0, 0, 1, 0, 0, 0, 0, 1, 0])]"
      ]
     },
     "execution_count": 7,
     "metadata": {},
     "output_type": "execute_result"
    }
   ],
   "source": [
    "Complexity_labeller.get_bin_labels(model)"
   ]
  },
  {
   "cell_type": "markdown",
   "metadata": {},
   "source": [
    "`get_prob_labels` returns the probability that the word belongs to the complex class"
   ]
  },
  {
   "cell_type": "code",
   "execution_count": 8,
   "metadata": {},
   "outputs": [
    {
     "data": {
      "text/plain": [
       "[0.033193372,\n",
       " 4.359562e-05,\n",
       " 0.00011993743,\n",
       " 0.9801681,\n",
       " 0.01585573,\n",
       " 0.26787525,\n",
       " 4.0525378e-05,\n",
       " 0.00021037977,\n",
       " 0.8165311,\n",
       " 6.47893e-05,\n",
       " 0.000112162525,\n",
       " 0.010358469,\n",
       " 6.7463385e-05,\n",
       " 0.8968867,\n",
       " 0.40755495]"
      ]
     },
     "execution_count": 8,
     "metadata": {},
     "output_type": "execute_result"
    }
   ],
   "source": [
    "Complexity_labeller.get_prob_labels(model)"
   ]
  }
 ],
 "metadata": {
  "kernelspec": {
   "display_name": "Python 3",
   "language": "python",
   "name": "python3"
  },
  "language_info": {
   "codemirror_mode": {
    "name": "ipython",
    "version": 3
   },
   "file_extension": ".py",
   "mimetype": "text/x-python",
   "name": "python",
   "nbconvert_exporter": "python",
   "pygments_lexer": "ipython3",
   "version": "3.6.4"
  }
 },
 "nbformat": 4,
 "nbformat_minor": 2
}
